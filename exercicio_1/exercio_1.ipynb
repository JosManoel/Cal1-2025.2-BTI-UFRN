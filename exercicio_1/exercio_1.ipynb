{
 "cells": [
  {
   "cell_type": "markdown",
   "id": "7db56b79",
   "metadata": {},
   "source": [
    "# Atividade de Calculo: 2° Unidade \n",
    "\n",
    "Utilizando os minimos quadrados"
   ]
  },
  {
   "cell_type": "markdown",
   "id": "d79714d6",
   "metadata": {},
   "source": []
  }
 ],
 "metadata": {
  "kernelspec": {
   "display_name": "venv",
   "language": "python",
   "name": "python3"
  },
  "language_info": {
   "name": "python",
   "version": "3.13.7"
  }
 },
 "nbformat": 4,
 "nbformat_minor": 5
}
